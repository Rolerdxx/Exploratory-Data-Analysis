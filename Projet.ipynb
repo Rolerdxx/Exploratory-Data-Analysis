{
 "cells": [
  {
   "cell_type": "markdown",
   "id": "b8115e4b",
   "metadata": {},
   "source": [
    "Exploratory Data Analysis Project: \n",
    "=============\n",
    "* Class Group: G6 \n",
    "* Project Group: 2 \n",
    "* Names: \n",
    " - BILAL MOTASSIM\n",
    " - ELBOUZIDI HAMZA\n",
    "* Dataset: Disney"
   ]
  },
  {
   "cell_type": "markdown",
   "id": "fbae7789",
   "metadata": {},
   "source": [
    "Table of contents\n",
    "=========\n",
    "* [Preparing the environment](#Preparing-the-environment)\n",
    "* [Exploring the dataset](#Exploring-the-dataset)\n",
    "* [Top 5 best categories](#Top-5-best-categories)\n",
    "* [Top 5 directors](#Top-5-directors)\n",
    "* [Top 10 casts](#Top-10-casts)\n",
    "* [Top 5 TV Shows](#Top-5-TV-Shows)\n",
    "* [Identifying similar content](#Identifying-similar-content)\n",
    "* [Disney's focus](#Disney's-focus)\n"
   ]
  },
  {
   "cell_type": "markdown",
   "id": "120d0620",
   "metadata": {},
   "source": [
    "# Preparing the environment"
   ]
  },
  {
   "cell_type": "markdown",
   "id": "6f95219a",
   "metadata": {},
   "source": [
    "* Importing `pandas` and `matplotlib`"
   ]
  },
  {
   "cell_type": "code",
   "execution_count": 10,
   "id": "adbb4d7e",
   "metadata": {
    "scrolled": true
   },
   "outputs": [],
   "source": [
    "import pandas as pd \n",
    "import matplotlib.pylab as plt"
   ]
  },
  {
   "cell_type": "markdown",
   "id": "23b0b531",
   "metadata": {},
   "source": [
    "* using `ggplot` style to display our plots"
   ]
  },
  {
   "cell_type": "code",
   "execution_count": 11,
   "id": "55b5fb95",
   "metadata": {},
   "outputs": [],
   "source": [
    "plt.style.use('ggplot')"
   ]
  },
  {
   "cell_type": "markdown",
   "id": "ab00f43b",
   "metadata": {},
   "source": [
    "* Reading the `disney.csv` file and making a DataFrame `ds` out of it"
   ]
  },
  {
   "cell_type": "code",
   "execution_count": 6,
   "id": "35bdebee",
   "metadata": {
    "scrolled": true
   },
   "outputs": [],
   "source": [
    "ds = pd.read_csv('disney.csv')"
   ]
  },
  {
   "cell_type": "markdown",
   "id": "cf461996",
   "metadata": {},
   "source": [
    "# Exploring the dataset"
   ]
  },
  {
   "cell_type": "markdown",
   "id": "62ce3c79",
   "metadata": {},
   "source": [
    "* using `shape` method to display the number of rows and columns in the dataset"
   ]
  },
  {
   "cell_type": "code",
   "execution_count": 7,
   "id": "c7091db9",
   "metadata": {},
   "outputs": [
    {
     "data": {
      "text/plain": [
       "(1450, 12)"
      ]
     },
     "execution_count": 7,
     "metadata": {},
     "output_type": "execute_result"
    }
   ],
   "source": [
    "ds.shape"
   ]
  },
  {
   "cell_type": "markdown",
   "id": "3cf9321c",
   "metadata": {},
   "source": [
    "* `head` allows us to display the 5 first columns, we can specifie how many we want"
   ]
  },
  {
   "cell_type": "code",
   "execution_count": 8,
   "id": "585f7e18",
   "metadata": {
    "scrolled": false
   },
   "outputs": [
    {
     "data": {
      "text/html": [
       "<div>\n",
       "<style scoped>\n",
       "    .dataframe tbody tr th:only-of-type {\n",
       "        vertical-align: middle;\n",
       "    }\n",
       "\n",
       "    .dataframe tbody tr th {\n",
       "        vertical-align: top;\n",
       "    }\n",
       "\n",
       "    .dataframe thead th {\n",
       "        text-align: right;\n",
       "    }\n",
       "</style>\n",
       "<table border=\"1\" class=\"dataframe\">\n",
       "  <thead>\n",
       "    <tr style=\"text-align: right;\">\n",
       "      <th></th>\n",
       "      <th>show_id</th>\n",
       "      <th>type</th>\n",
       "      <th>title</th>\n",
       "      <th>director</th>\n",
       "      <th>cast</th>\n",
       "      <th>country</th>\n",
       "      <th>date_added</th>\n",
       "      <th>release_year</th>\n",
       "      <th>rating</th>\n",
       "      <th>duration</th>\n",
       "      <th>listed_in</th>\n",
       "      <th>description</th>\n",
       "    </tr>\n",
       "  </thead>\n",
       "  <tbody>\n",
       "    <tr>\n",
       "      <th>0</th>\n",
       "      <td>s1</td>\n",
       "      <td>Movie</td>\n",
       "      <td>Duck the Halls: A Mickey Mouse Christmas Special</td>\n",
       "      <td>Alonso Ramirez Ramos, Dave Wasson</td>\n",
       "      <td>Chris Diamantopoulos, Tony Anselmo, Tress MacN...</td>\n",
       "      <td>NaN</td>\n",
       "      <td>November 26, 2021</td>\n",
       "      <td>2016</td>\n",
       "      <td>TV-G</td>\n",
       "      <td>23 min</td>\n",
       "      <td>Animation, Family</td>\n",
       "      <td>Join Mickey and the gang as they duck the halls!</td>\n",
       "    </tr>\n",
       "    <tr>\n",
       "      <th>1</th>\n",
       "      <td>s2</td>\n",
       "      <td>Movie</td>\n",
       "      <td>Ernest Saves Christmas</td>\n",
       "      <td>John Cherry</td>\n",
       "      <td>Jim Varney, Noelle Parker, Douglas Seale</td>\n",
       "      <td>NaN</td>\n",
       "      <td>November 26, 2021</td>\n",
       "      <td>1988</td>\n",
       "      <td>PG</td>\n",
       "      <td>91 min</td>\n",
       "      <td>Comedy</td>\n",
       "      <td>Santa Claus passes his magic bag to a new St. ...</td>\n",
       "    </tr>\n",
       "    <tr>\n",
       "      <th>2</th>\n",
       "      <td>s3</td>\n",
       "      <td>Movie</td>\n",
       "      <td>Ice Age: A Mammoth Christmas</td>\n",
       "      <td>Karen Disher</td>\n",
       "      <td>Raymond Albert Romano, John Leguizamo, Denis L...</td>\n",
       "      <td>United States</td>\n",
       "      <td>November 26, 2021</td>\n",
       "      <td>2011</td>\n",
       "      <td>TV-G</td>\n",
       "      <td>23 min</td>\n",
       "      <td>Animation, Comedy, Family</td>\n",
       "      <td>Sid the Sloth is on Santa's naughty list.</td>\n",
       "    </tr>\n",
       "    <tr>\n",
       "      <th>3</th>\n",
       "      <td>s4</td>\n",
       "      <td>Movie</td>\n",
       "      <td>The Queen Family Singalong</td>\n",
       "      <td>Hamish Hamilton</td>\n",
       "      <td>Darren Criss, Adam Lambert, Derek Hough, Alexa...</td>\n",
       "      <td>NaN</td>\n",
       "      <td>November 26, 2021</td>\n",
       "      <td>2021</td>\n",
       "      <td>TV-PG</td>\n",
       "      <td>41 min</td>\n",
       "      <td>Musical</td>\n",
       "      <td>This is real life, not just fantasy!</td>\n",
       "    </tr>\n",
       "    <tr>\n",
       "      <th>4</th>\n",
       "      <td>s5</td>\n",
       "      <td>TV Show</td>\n",
       "      <td>The Beatles: Get Back</td>\n",
       "      <td>NaN</td>\n",
       "      <td>John Lennon, Paul McCartney, George Harrison, ...</td>\n",
       "      <td>NaN</td>\n",
       "      <td>November 25, 2021</td>\n",
       "      <td>2021</td>\n",
       "      <td>NaN</td>\n",
       "      <td>1 Season</td>\n",
       "      <td>Docuseries, Historical, Music</td>\n",
       "      <td>A three-part documentary from Peter Jackson ca...</td>\n",
       "    </tr>\n",
       "  </tbody>\n",
       "</table>\n",
       "</div>"
      ],
      "text/plain": [
       "  show_id     type                                             title  \\\n",
       "0      s1    Movie  Duck the Halls: A Mickey Mouse Christmas Special   \n",
       "1      s2    Movie                            Ernest Saves Christmas   \n",
       "2      s3    Movie                      Ice Age: A Mammoth Christmas   \n",
       "3      s4    Movie                        The Queen Family Singalong   \n",
       "4      s5  TV Show                             The Beatles: Get Back   \n",
       "\n",
       "                            director  \\\n",
       "0  Alonso Ramirez Ramos, Dave Wasson   \n",
       "1                        John Cherry   \n",
       "2                       Karen Disher   \n",
       "3                    Hamish Hamilton   \n",
       "4                                NaN   \n",
       "\n",
       "                                                cast        country  \\\n",
       "0  Chris Diamantopoulos, Tony Anselmo, Tress MacN...            NaN   \n",
       "1           Jim Varney, Noelle Parker, Douglas Seale            NaN   \n",
       "2  Raymond Albert Romano, John Leguizamo, Denis L...  United States   \n",
       "3  Darren Criss, Adam Lambert, Derek Hough, Alexa...            NaN   \n",
       "4  John Lennon, Paul McCartney, George Harrison, ...            NaN   \n",
       "\n",
       "          date_added  release_year rating  duration  \\\n",
       "0  November 26, 2021          2016   TV-G    23 min   \n",
       "1  November 26, 2021          1988     PG    91 min   \n",
       "2  November 26, 2021          2011   TV-G    23 min   \n",
       "3  November 26, 2021          2021  TV-PG    41 min   \n",
       "4  November 25, 2021          2021    NaN  1 Season   \n",
       "\n",
       "                       listed_in  \\\n",
       "0              Animation, Family   \n",
       "1                         Comedy   \n",
       "2      Animation, Comedy, Family   \n",
       "3                        Musical   \n",
       "4  Docuseries, Historical, Music   \n",
       "\n",
       "                                         description  \n",
       "0   Join Mickey and the gang as they duck the halls!  \n",
       "1  Santa Claus passes his magic bag to a new St. ...  \n",
       "2          Sid the Sloth is on Santa's naughty list.  \n",
       "3               This is real life, not just fantasy!  \n",
       "4  A three-part documentary from Peter Jackson ca...  "
      ]
     },
     "execution_count": 8,
     "metadata": {},
     "output_type": "execute_result"
    }
   ],
   "source": [
    "ds.head()"
   ]
  },
  {
   "cell_type": "markdown",
   "id": "d9fb6f56",
   "metadata": {},
   "source": [
    "* using `columns` to show the columns we have in the dataset"
   ]
  },
  {
   "cell_type": "code",
   "execution_count": 13,
   "id": "e3f22ef7",
   "metadata": {},
   "outputs": [
    {
     "data": {
      "text/plain": [
       "Index(['show_id', 'type', 'title', 'director', 'cast', 'country', 'date_added',\n",
       "       'release_year', 'rating', 'duration', 'listed_in', 'description'],\n",
       "      dtype='object')"
      ]
     },
     "execution_count": 13,
     "metadata": {},
     "output_type": "execute_result"
    }
   ],
   "source": [
    "ds.columns"
   ]
  },
  {
   "cell_type": "markdown",
   "id": "cf38acc8",
   "metadata": {},
   "source": [
    "* `dtypes` allows us to see the type of every column"
   ]
  },
  {
   "cell_type": "code",
   "execution_count": 14,
   "id": "65f53815",
   "metadata": {
    "scrolled": true
   },
   "outputs": [
    {
     "data": {
      "text/plain": [
       "show_id         object\n",
       "type            object\n",
       "title           object\n",
       "director        object\n",
       "cast            object\n",
       "country         object\n",
       "date_added      object\n",
       "release_year     int64\n",
       "rating          object\n",
       "duration        object\n",
       "listed_in       object\n",
       "description     object\n",
       "dtype: object"
      ]
     },
     "execution_count": 14,
     "metadata": {},
     "output_type": "execute_result"
    }
   ],
   "source": [
    "ds.dtypes"
   ]
  },
  {
   "cell_type": "markdown",
   "id": "52e77f7d",
   "metadata": {},
   "source": [
    "* i noticed that the `date_added` column is `object` type so i decided to convert it to `datetime` using the `to_datetime` pandas method"
   ]
  },
  {
   "cell_type": "code",
   "execution_count": 14,
   "id": "797fa810",
   "metadata": {},
   "outputs": [],
   "source": [
    "ds['date_added'] = pd.to_datetime(ds['date_added'])"
   ]
  },
  {
   "cell_type": "code",
   "execution_count": 15,
   "id": "76954477",
   "metadata": {},
   "outputs": [
    {
     "data": {
      "text/plain": [
       "show_id                 object\n",
       "type                    object\n",
       "title                   object\n",
       "director                object\n",
       "cast                    object\n",
       "country                 object\n",
       "date_added      datetime64[ns]\n",
       "release_year             int64\n",
       "rating                  object\n",
       "duration                object\n",
       "listed_in               object\n",
       "description             object\n",
       "dtype: object"
      ]
     },
     "execution_count": 15,
     "metadata": {},
     "output_type": "execute_result"
    }
   ],
   "source": [
    "ds.dtypes"
   ]
  },
  {
   "cell_type": "markdown",
   "id": "8ce78c8d",
   "metadata": {},
   "source": [
    "* we can see it converted successfully"
   ]
  },
  {
   "cell_type": "code",
   "execution_count": 16,
   "id": "88cfef20",
   "metadata": {
    "scrolled": true
   },
   "outputs": [
    {
     "data": {
      "text/plain": [
       "0   2021-11-26\n",
       "1   2021-11-26\n",
       "Name: date_added, dtype: datetime64[ns]"
      ]
     },
     "execution_count": 16,
     "metadata": {},
     "output_type": "execute_result"
    }
   ],
   "source": [
    "ds['date_added'].head(2)"
   ]
  },
  {
   "cell_type": "markdown",
   "id": "f5fbf295",
   "metadata": {},
   "source": [
    "* using `isna` and `sum` to show the number of null values on each column"
   ]
  },
  {
   "cell_type": "code",
   "execution_count": 18,
   "id": "c4355001",
   "metadata": {},
   "outputs": [
    {
     "data": {
      "text/plain": [
       "show_id           0\n",
       "type              0\n",
       "title             0\n",
       "director        473\n",
       "cast            190\n",
       "country         219\n",
       "date_added        3\n",
       "release_year      0\n",
       "rating            3\n",
       "duration          0\n",
       "listed_in         0\n",
       "description       0\n",
       "dtype: int64"
      ]
     },
     "execution_count": 18,
     "metadata": {},
     "output_type": "execute_result"
    }
   ],
   "source": [
    "ds.isna().sum()"
   ]
  },
  {
   "cell_type": "markdown",
   "id": "4462aca3",
   "metadata": {},
   "source": [
    "* Locating the duplicates in the dataset using `duplicated` that returns `True` if the row is duplicated, and `loc` locates these rows and displays them, we can see that there are no duplicates"
   ]
  },
  {
   "cell_type": "code",
   "execution_count": 19,
   "id": "cd6a2e82",
   "metadata": {},
   "outputs": [
    {
     "data": {
      "text/html": [
       "<div>\n",
       "<style scoped>\n",
       "    .dataframe tbody tr th:only-of-type {\n",
       "        vertical-align: middle;\n",
       "    }\n",
       "\n",
       "    .dataframe tbody tr th {\n",
       "        vertical-align: top;\n",
       "    }\n",
       "\n",
       "    .dataframe thead th {\n",
       "        text-align: right;\n",
       "    }\n",
       "</style>\n",
       "<table border=\"1\" class=\"dataframe\">\n",
       "  <thead>\n",
       "    <tr style=\"text-align: right;\">\n",
       "      <th></th>\n",
       "      <th>show_id</th>\n",
       "      <th>type</th>\n",
       "      <th>title</th>\n",
       "      <th>director</th>\n",
       "      <th>cast</th>\n",
       "      <th>country</th>\n",
       "      <th>date_added</th>\n",
       "      <th>release_year</th>\n",
       "      <th>rating</th>\n",
       "      <th>duration</th>\n",
       "      <th>listed_in</th>\n",
       "      <th>description</th>\n",
       "    </tr>\n",
       "  </thead>\n",
       "  <tbody>\n",
       "  </tbody>\n",
       "</table>\n",
       "</div>"
      ],
      "text/plain": [
       "Empty DataFrame\n",
       "Columns: [show_id, type, title, director, cast, country, date_added, release_year, rating, duration, listed_in, description]\n",
       "Index: []"
      ]
     },
     "execution_count": 19,
     "metadata": {},
     "output_type": "execute_result"
    }
   ],
   "source": [
    "ds.loc[ds.duplicated()]"
   ]
  },
  {
   "cell_type": "markdown",
   "id": "a228b324",
   "metadata": {},
   "source": [
    "* using `query` to show shows that have been released in 2021"
   ]
  },
  {
   "cell_type": "code",
   "execution_count": 26,
   "id": "b859296d",
   "metadata": {
    "scrolled": false
   },
   "outputs": [
    {
     "data": {
      "text/html": [
       "<div>\n",
       "<style scoped>\n",
       "    .dataframe tbody tr th:only-of-type {\n",
       "        vertical-align: middle;\n",
       "    }\n",
       "\n",
       "    .dataframe tbody tr th {\n",
       "        vertical-align: top;\n",
       "    }\n",
       "\n",
       "    .dataframe thead th {\n",
       "        text-align: right;\n",
       "    }\n",
       "</style>\n",
       "<table border=\"1\" class=\"dataframe\">\n",
       "  <thead>\n",
       "    <tr style=\"text-align: right;\">\n",
       "      <th></th>\n",
       "      <th>show_id</th>\n",
       "      <th>type</th>\n",
       "      <th>title</th>\n",
       "      <th>director</th>\n",
       "      <th>cast</th>\n",
       "      <th>country</th>\n",
       "      <th>date_added</th>\n",
       "      <th>release_year</th>\n",
       "      <th>rating</th>\n",
       "      <th>duration</th>\n",
       "      <th>listed_in</th>\n",
       "      <th>description</th>\n",
       "    </tr>\n",
       "  </thead>\n",
       "  <tbody>\n",
       "    <tr>\n",
       "      <th>3</th>\n",
       "      <td>s4</td>\n",
       "      <td>Movie</td>\n",
       "      <td>The Queen Family Singalong</td>\n",
       "      <td>Hamish Hamilton</td>\n",
       "      <td>Darren Criss, Adam Lambert, Derek Hough, Alexa...</td>\n",
       "      <td>NaN</td>\n",
       "      <td>2021-11-26</td>\n",
       "      <td>2021</td>\n",
       "      <td>TV-PG</td>\n",
       "      <td>41 min</td>\n",
       "      <td>Musical</td>\n",
       "      <td>This is real life, not just fantasy!</td>\n",
       "    </tr>\n",
       "    <tr>\n",
       "      <th>4</th>\n",
       "      <td>s5</td>\n",
       "      <td>TV Show</td>\n",
       "      <td>The Beatles: Get Back</td>\n",
       "      <td>NaN</td>\n",
       "      <td>John Lennon, Paul McCartney, George Harrison, ...</td>\n",
       "      <td>NaN</td>\n",
       "      <td>2021-11-25</td>\n",
       "      <td>2021</td>\n",
       "      <td>NaN</td>\n",
       "      <td>1 Season</td>\n",
       "      <td>Docuseries, Historical, Music</td>\n",
       "      <td>A three-part documentary from Peter Jackson ca...</td>\n",
       "    </tr>\n",
       "    <tr>\n",
       "      <th>5</th>\n",
       "      <td>s6</td>\n",
       "      <td>Movie</td>\n",
       "      <td>Becoming Cousteau</td>\n",
       "      <td>Liz Garbus</td>\n",
       "      <td>Jacques Yves Cousteau, Vincent Cassel</td>\n",
       "      <td>United States</td>\n",
       "      <td>2021-11-24</td>\n",
       "      <td>2021</td>\n",
       "      <td>PG-13</td>\n",
       "      <td>94 min</td>\n",
       "      <td>Biographical, Documentary</td>\n",
       "      <td>An inside look at the legendary life of advent...</td>\n",
       "    </tr>\n",
       "    <tr>\n",
       "      <th>6</th>\n",
       "      <td>s7</td>\n",
       "      <td>TV Show</td>\n",
       "      <td>Hawkeye</td>\n",
       "      <td>NaN</td>\n",
       "      <td>Jeremy Renner, Hailee Steinfeld, Vera Farmiga,...</td>\n",
       "      <td>NaN</td>\n",
       "      <td>2021-11-24</td>\n",
       "      <td>2021</td>\n",
       "      <td>TV-14</td>\n",
       "      <td>1 Season</td>\n",
       "      <td>Action-Adventure, Superhero</td>\n",
       "      <td>Clint Barton/Hawkeye must team up with skilled...</td>\n",
       "    </tr>\n",
       "    <tr>\n",
       "      <th>14</th>\n",
       "      <td>s15</td>\n",
       "      <td>Movie</td>\n",
       "      <td>America the Beautiful</td>\n",
       "      <td>NaN</td>\n",
       "      <td>Michael B. Jordan</td>\n",
       "      <td>NaN</td>\n",
       "      <td>2021-11-12</td>\n",
       "      <td>2021</td>\n",
       "      <td>TV-PG</td>\n",
       "      <td>2 min</td>\n",
       "      <td>Animals &amp; Nature</td>\n",
       "      <td>Epic, grand portrait of the land across four r...</td>\n",
       "    </tr>\n",
       "    <tr>\n",
       "      <th>...</th>\n",
       "      <td>...</td>\n",
       "      <td>...</td>\n",
       "      <td>...</td>\n",
       "      <td>...</td>\n",
       "      <td>...</td>\n",
       "      <td>...</td>\n",
       "      <td>...</td>\n",
       "      <td>...</td>\n",
       "      <td>...</td>\n",
       "      <td>...</td>\n",
       "      <td>...</td>\n",
       "      <td>...</td>\n",
       "    </tr>\n",
       "    <tr>\n",
       "      <th>301</th>\n",
       "      <td>s302</td>\n",
       "      <td>Movie</td>\n",
       "      <td>Marvel's Behind the Mask</td>\n",
       "      <td>NaN</td>\n",
       "      <td>NaN</td>\n",
       "      <td>NaN</td>\n",
       "      <td>2021-02-12</td>\n",
       "      <td>2021</td>\n",
       "      <td>TV-14</td>\n",
       "      <td>65 min</td>\n",
       "      <td>Anthology, Documentary</td>\n",
       "      <td>A documentary special exploring the power of i...</td>\n",
       "    </tr>\n",
       "    <tr>\n",
       "      <th>310</th>\n",
       "      <td>s311</td>\n",
       "      <td>TV Show</td>\n",
       "      <td>Pixar Popcorn</td>\n",
       "      <td>NaN</td>\n",
       "      <td>Ellen DeGeneres, Craig T. Nelson, Holly Hunter...</td>\n",
       "      <td>United States</td>\n",
       "      <td>2021-01-22</td>\n",
       "      <td>2021</td>\n",
       "      <td>TV-PG</td>\n",
       "      <td>1 Season</td>\n",
       "      <td>Animation, Anthology, Family</td>\n",
       "      <td>Grab a quick snack of Pixar with this collecti...</td>\n",
       "    </tr>\n",
       "    <tr>\n",
       "      <th>315</th>\n",
       "      <td>s316</td>\n",
       "      <td>TV Show</td>\n",
       "      <td>WandaVision</td>\n",
       "      <td>NaN</td>\n",
       "      <td>Elizabeth Olsen, Paul Bettany, Teyonah Parris,...</td>\n",
       "      <td>United States</td>\n",
       "      <td>2021-01-15</td>\n",
       "      <td>2021</td>\n",
       "      <td>TV-14</td>\n",
       "      <td>1 Season</td>\n",
       "      <td>Drama, Fantasy, Mystery</td>\n",
       "      <td>Two super-powered beings living idealized subu...</td>\n",
       "    </tr>\n",
       "    <tr>\n",
       "      <th>318</th>\n",
       "      <td>s319</td>\n",
       "      <td>TV Show</td>\n",
       "      <td>Marvel Studios LEGENDS</td>\n",
       "      <td>NaN</td>\n",
       "      <td>NaN</td>\n",
       "      <td>United States</td>\n",
       "      <td>2021-01-08</td>\n",
       "      <td>2021</td>\n",
       "      <td>TV-14</td>\n",
       "      <td>1 Season</td>\n",
       "      <td>Action-Adventure, Docuseries, Fantasy</td>\n",
       "      <td>Marvel Studios LEGENDS celebrates the heroes a...</td>\n",
       "    </tr>\n",
       "    <tr>\n",
       "      <th>332</th>\n",
       "      <td>s333</td>\n",
       "      <td>TV Show</td>\n",
       "      <td>Disney Parks Sunrise Series</td>\n",
       "      <td>NaN</td>\n",
       "      <td>NaN</td>\n",
       "      <td>NaN</td>\n",
       "      <td>2020-12-18</td>\n",
       "      <td>2021</td>\n",
       "      <td>TV-G</td>\n",
       "      <td>1 Season</td>\n",
       "      <td>Animals &amp; Nature, Docuseries, Family</td>\n",
       "      <td>An inspiring view of Disney Parks few have exp...</td>\n",
       "    </tr>\n",
       "  </tbody>\n",
       "</table>\n",
       "<p>125 rows × 12 columns</p>\n",
       "</div>"
      ],
      "text/plain": [
       "    show_id     type                        title         director  \\\n",
       "3        s4    Movie   The Queen Family Singalong  Hamish Hamilton   \n",
       "4        s5  TV Show        The Beatles: Get Back              NaN   \n",
       "5        s6    Movie            Becoming Cousteau       Liz Garbus   \n",
       "6        s7  TV Show                      Hawkeye              NaN   \n",
       "14      s15    Movie        America the Beautiful              NaN   \n",
       "..      ...      ...                          ...              ...   \n",
       "301    s302    Movie     Marvel's Behind the Mask              NaN   \n",
       "310    s311  TV Show                Pixar Popcorn              NaN   \n",
       "315    s316  TV Show                  WandaVision              NaN   \n",
       "318    s319  TV Show       Marvel Studios LEGENDS              NaN   \n",
       "332    s333  TV Show  Disney Parks Sunrise Series              NaN   \n",
       "\n",
       "                                                  cast        country  \\\n",
       "3    Darren Criss, Adam Lambert, Derek Hough, Alexa...            NaN   \n",
       "4    John Lennon, Paul McCartney, George Harrison, ...            NaN   \n",
       "5                Jacques Yves Cousteau, Vincent Cassel  United States   \n",
       "6    Jeremy Renner, Hailee Steinfeld, Vera Farmiga,...            NaN   \n",
       "14                                   Michael B. Jordan            NaN   \n",
       "..                                                 ...            ...   \n",
       "301                                                NaN            NaN   \n",
       "310  Ellen DeGeneres, Craig T. Nelson, Holly Hunter...  United States   \n",
       "315  Elizabeth Olsen, Paul Bettany, Teyonah Parris,...  United States   \n",
       "318                                                NaN  United States   \n",
       "332                                                NaN            NaN   \n",
       "\n",
       "    date_added  release_year rating  duration  \\\n",
       "3   2021-11-26          2021  TV-PG    41 min   \n",
       "4   2021-11-25          2021    NaN  1 Season   \n",
       "5   2021-11-24          2021  PG-13    94 min   \n",
       "6   2021-11-24          2021  TV-14  1 Season   \n",
       "14  2021-11-12          2021  TV-PG     2 min   \n",
       "..         ...           ...    ...       ...   \n",
       "301 2021-02-12          2021  TV-14    65 min   \n",
       "310 2021-01-22          2021  TV-PG  1 Season   \n",
       "315 2021-01-15          2021  TV-14  1 Season   \n",
       "318 2021-01-08          2021  TV-14  1 Season   \n",
       "332 2020-12-18          2021   TV-G  1 Season   \n",
       "\n",
       "                                 listed_in  \\\n",
       "3                                  Musical   \n",
       "4            Docuseries, Historical, Music   \n",
       "5                Biographical, Documentary   \n",
       "6              Action-Adventure, Superhero   \n",
       "14                        Animals & Nature   \n",
       "..                                     ...   \n",
       "301                 Anthology, Documentary   \n",
       "310           Animation, Anthology, Family   \n",
       "315                Drama, Fantasy, Mystery   \n",
       "318  Action-Adventure, Docuseries, Fantasy   \n",
       "332   Animals & Nature, Docuseries, Family   \n",
       "\n",
       "                                           description  \n",
       "3                 This is real life, not just fantasy!  \n",
       "4    A three-part documentary from Peter Jackson ca...  \n",
       "5    An inside look at the legendary life of advent...  \n",
       "6    Clint Barton/Hawkeye must team up with skilled...  \n",
       "14   Epic, grand portrait of the land across four r...  \n",
       "..                                                 ...  \n",
       "301  A documentary special exploring the power of i...  \n",
       "310  Grab a quick snack of Pixar with this collecti...  \n",
       "315  Two super-powered beings living idealized subu...  \n",
       "318  Marvel Studios LEGENDS celebrates the heroes a...  \n",
       "332  An inspiring view of Disney Parks few have exp...  \n",
       "\n",
       "[125 rows x 12 columns]"
      ]
     },
     "execution_count": 26,
     "metadata": {},
     "output_type": "execute_result"
    }
   ],
   "source": [
    "ds.query('release_year == 2021')"
   ]
  },
  {
   "cell_type": "markdown",
   "id": "90bd6519",
   "metadata": {},
   "source": [
    "* `value_counts` allows to show the row count of each value of the column specified, here we have a decending list of every year and the number of shows released"
   ]
  },
  {
   "cell_type": "code",
   "execution_count": 26,
   "id": "35199f55",
   "metadata": {
    "scrolled": true
   },
   "outputs": [
    {
     "data": {
      "text/plain": [
       "2021    125\n",
       "2020    114\n",
       "2019     99\n",
       "2017     69\n",
       "2018     65\n",
       "2016     61\n",
       "2011     52\n",
       "2014     50\n",
       "2015     46\n",
       "2012     41\n",
       "Name: release_year, dtype: int64"
      ]
     },
     "execution_count": 26,
     "metadata": {},
     "output_type": "execute_result"
    }
   ],
   "source": [
    "ds['release_year'].value_counts().head(10)"
   ]
  },
  {
   "cell_type": "markdown",
   "id": "3c725029",
   "metadata": {},
   "source": [
    "* Here we use the `plot` method to make a bar plot using the previous data, that shows the top 10 years by shows released"
   ]
  },
  {
   "cell_type": "code",
   "execution_count": 25,
   "id": "90db58a0",
   "metadata": {
    "scrolled": false
   },
   "outputs": [
    {
     "data": {
      "image/png": "[encoded data removed]",
      "text/plain": [
       "<Figure size 640x480 with 1 Axes>"
      ]
     },
     "metadata": {},
     "output_type": "display_data"
    }
   ],
   "source": [
    "ax = ds['release_year'].value_counts() \\\n",
    "    .head(10) \\\n",
    "    .plot(kind='bar' , title='Top 10 years by shows released')\n",
    "ax.set_xlabel('Year')\n",
    "ax.set_ylabel('Count')\n",
    "plt.show()"
   ]
  },
  {
   "cell_type": "markdown",
   "id": "d3750a26",
   "metadata": {},
   "source": [
    "# Top 5 best categories"
   ]
  },
  {
   "cell_type": "markdown",
   "id": "d58a9652",
   "metadata": {},
   "source": [
    "* renaming the categorie column using `rename`"
   ]
  },
  {
   "cell_type": "code",
   "execution_count": 28,
   "id": "83f59d9b",
   "metadata": {},
   "outputs": [],
   "source": [
    "ds = ds.rename(columns={'listed_in': 'cat'})"
   ]
  },
  {
   "cell_type": "code",
   "execution_count": 29,
   "id": "2f62261d",
   "metadata": {},
   "outputs": [
    {
     "data": {
      "text/html": [
       "<div>\n",
       "<style scoped>\n",
       "    .dataframe tbody tr th:only-of-type {\n",
       "        vertical-align: middle;\n",
       "    }\n",
       "\n",
       "    .dataframe tbody tr th {\n",
       "        vertical-align: top;\n",
       "    }\n",
       "\n",
       "    .dataframe thead th {\n",
       "        text-align: right;\n",
       "    }\n",
       "</style>\n",
       "<table border=\"1\" class=\"dataframe\">\n",
       "  <thead>\n",
       "    <tr style=\"text-align: right;\">\n",
       "      <th></th>\n",
       "      <th>show_id</th>\n",
       "      <th>type</th>\n",
       "      <th>title</th>\n",
       "      <th>director</th>\n",
       "      <th>cast</th>\n",
       "      <th>country</th>\n",
       "      <th>date_added</th>\n",
       "      <th>release_year</th>\n",
       "      <th>rating</th>\n",
       "      <th>duration</th>\n",
       "      <th>cat</th>\n",
       "      <th>description</th>\n",
       "    </tr>\n",
       "  </thead>\n",
       "  <tbody>\n",
       "    <tr>\n",
       "      <th>0</th>\n",
       "      <td>s1</td>\n",
       "      <td>Movie</td>\n",
       "      <td>Duck the Halls: A Mickey Mouse Christmas Special</td>\n",
       "      <td>Alonso Ramirez Ramos, Dave Wasson</td>\n",
       "      <td>Chris Diamantopoulos, Tony Anselmo, Tress MacN...</td>\n",
       "      <td>NaN</td>\n",
       "      <td>2021-11-26</td>\n",
       "      <td>2016</td>\n",
       "      <td>TV-G</td>\n",
       "      <td>23 min</td>\n",
       "      <td>Animation, Family</td>\n",
       "      <td>Join Mickey and the gang as they duck the halls!</td>\n",
       "    </tr>\n",
       "    <tr>\n",
       "      <th>1</th>\n",
       "      <td>s2</td>\n",
       "      <td>Movie</td>\n",
       "      <td>Ernest Saves Christmas</td>\n",
       "      <td>John Cherry</td>\n",
       "      <td>Jim Varney, Noelle Parker, Douglas Seale</td>\n",
       "      <td>NaN</td>\n",
       "      <td>2021-11-26</td>\n",
       "      <td>1988</td>\n",
       "      <td>PG</td>\n",
       "      <td>91 min</td>\n",
       "      <td>Comedy</td>\n",
       "      <td>Santa Claus passes his magic bag to a new St. ...</td>\n",
       "    </tr>\n",
       "    <tr>\n",
       "      <th>2</th>\n",
       "      <td>s3</td>\n",
       "      <td>Movie</td>\n",
       "      <td>Ice Age: A Mammoth Christmas</td>\n",
       "      <td>Karen Disher</td>\n",
       "      <td>Raymond Albert Romano, John Leguizamo, Denis L...</td>\n",
       "      <td>United States</td>\n",
       "      <td>2021-11-26</td>\n",
       "      <td>2011</td>\n",
       "      <td>TV-G</td>\n",
       "      <td>23 min</td>\n",
       "      <td>Animation, Comedy, Family</td>\n",
       "      <td>Sid the Sloth is on Santa's naughty list.</td>\n",
       "    </tr>\n",
       "    <tr>\n",
       "      <th>3</th>\n",
       "      <td>s4</td>\n",
       "      <td>Movie</td>\n",
       "      <td>The Queen Family Singalong</td>\n",
       "      <td>Hamish Hamilton</td>\n",
       "      <td>Darren Criss, Adam Lambert, Derek Hough, Alexa...</td>\n",
       "      <td>NaN</td>\n",
       "      <td>2021-11-26</td>\n",
       "      <td>2021</td>\n",
       "      <td>TV-PG</td>\n",
       "      <td>41 min</td>\n",
       "      <td>Musical</td>\n",
       "      <td>This is real life, not just fantasy!</td>\n",
       "    </tr>\n",
       "    <tr>\n",
       "      <th>4</th>\n",
       "      <td>s5</td>\n",
       "      <td>TV Show</td>\n",
       "      <td>The Beatles: Get Back</td>\n",
       "      <td>NaN</td>\n",
       "      <td>John Lennon, Paul McCartney, George Harrison, ...</td>\n",
       "      <td>NaN</td>\n",
       "      <td>2021-11-25</td>\n",
       "      <td>2021</td>\n",
       "      <td>NaN</td>\n",
       "      <td>1 Season</td>\n",
       "      <td>Docuseries, Historical, Music</td>\n",
       "      <td>A three-part documentary from Peter Jackson ca...</td>\n",
       "    </tr>\n",
       "  </tbody>\n",
       "</table>\n",
       "</div>"
      ],
      "text/plain": [
       "  show_id     type                                             title  \\\n",
       "0      s1    Movie  Duck the Halls: A Mickey Mouse Christmas Special   \n",
       "1      s2    Movie                            Ernest Saves Christmas   \n",
       "2      s3    Movie                      Ice Age: A Mammoth Christmas   \n",
       "3      s4    Movie                        The Queen Family Singalong   \n",
       "4      s5  TV Show                             The Beatles: Get Back   \n",
       "\n",
       "                            director  \\\n",
       "0  Alonso Ramirez Ramos, Dave Wasson   \n",
       "1                        John Cherry   \n",
       "2                       Karen Disher   \n",
       "3                    Hamish Hamilton   \n",
       "4                                NaN   \n",
       "\n",
       "                                                cast        country  \\\n",
       "0  Chris Diamantopoulos, Tony Anselmo, Tress MacN...            NaN   \n",
       "1           Jim Varney, Noelle Parker, Douglas Seale            NaN   \n",
       "2  Raymond Albert Romano, John Leguizamo, Denis L...  United States   \n",
       "3  Darren Criss, Adam Lambert, Derek Hough, Alexa...            NaN   \n",
       "4  John Lennon, Paul McCartney, George Harrison, ...            NaN   \n",
       "\n",
       "  date_added  release_year rating  duration                            cat  \\\n",
       "0 2021-11-26          2016   TV-G    23 min              Animation, Family   \n",
       "1 2021-11-26          1988     PG    91 min                         Comedy   \n",
       "2 2021-11-26          2011   TV-G    23 min      Animation, Comedy, Family   \n",
       "3 2021-11-26          2021  TV-PG    41 min                        Musical   \n",
       "4 2021-11-25          2021    NaN  1 Season  Docuseries, Historical, Music   \n",
       "\n",
       "                                         description  \n",
       "0   Join Mickey and the gang as they duck the halls!  \n",
       "1  Santa Claus passes his magic bag to a new St. ...  \n",
       "2          Sid the Sloth is on Santa's naughty list.  \n",
       "3               This is real life, not just fantasy!  \n",
       "4  A three-part documentary from Peter Jackson ca...  "
      ]
     },
     "execution_count": 29,
     "metadata": {},
     "output_type": "execute_result"
    }
   ],
   "source": [
    "ds.head()"
   ]
  },
  {
   "cell_type": "markdown",
   "id": "12c9789a",
   "metadata": {},
   "source": [
    "* we notice that the categories are in a string seperated by `,`"
   ]
  },
  {
   "cell_type": "code",
   "execution_count": 37,
   "id": "89b5de10",
   "metadata": {
    "scrolled": false
   },
   "outputs": [
    {
     "data": {
      "text/plain": [
       "0                Animation, Family\n",
       "1                           Comedy\n",
       "2        Animation, Comedy, Family\n",
       "3                          Musical\n",
       "4    Docuseries, Historical, Music\n",
       "5        Biographical, Documentary\n",
       "6      Action-Adventure, Superhero\n",
       "7    Docuseries, Reality, Survival\n",
       "Name: cat, dtype: object"
      ]
     },
     "execution_count": 37,
     "metadata": {},
     "output_type": "execute_result"
    }
   ],
   "source": [
    "ds['cat'].head(8)"
   ]
  },
  {
   "cell_type": "markdown",
   "id": "33476ea1",
   "metadata": {},
   "source": [
    "* to solve this problem we use `str.split(',')` to turn the string into a list of categories"
   ]
  },
  {
   "cell_type": "code",
   "execution_count": 31,
   "id": "b7efa16c",
   "metadata": {},
   "outputs": [],
   "source": [
    "ds['cat'] = ds['cat'].str.split(',')"
   ]
  },
  {
   "cell_type": "markdown",
   "id": "20b8a847",
   "metadata": {},
   "source": [
    "* `explode` makes duplicates of the same row with diffrente categories"
   ]
  },
  {
   "cell_type": "code",
   "execution_count": 32,
   "id": "1e921afc",
   "metadata": {
    "scrolled": false
   },
   "outputs": [],
   "source": [
    "ex = ds.explode('cat')"
   ]
  },
  {
   "cell_type": "markdown",
   "id": "a5988934",
   "metadata": {},
   "source": [
    "* `value_counts` allows to show the row count of each value of the column specified, here we have a decending list of every categorie, `head(5)` gets the top five of the list, `plot` displays the data we got in a `bar` plot"
   ]
  },
  {
   "cell_type": "code",
   "execution_count": 33,
   "id": "1c3e0bc8",
   "metadata": {},
   "outputs": [
    {
     "data": {
      "image/png": "[encoded data removed]",
      "text/plain": [
       "<Figure size 640x480 with 1 Axes>"
      ]
     },
     "metadata": {},
     "output_type": "display_data"
    }
   ],
   "source": [
    "ax = ex['cat'].value_counts() \\\n",
    "    .head(5) \\\n",
    "    .plot(kind='bar' , title='top 5 categories')\n",
    "ax.set_xlabel('Categorie')\n",
    "ax.set_ylabel('Count')\n",
    "plt.show()"
   ]
  },
  {
   "cell_type": "markdown",
   "id": "a27c82cb",
   "metadata": {},
   "source": [
    "# Top 5 directors"
   ]
  },
  {
   "cell_type": "markdown",
   "id": "5f6e9f97",
   "metadata": {},
   "source": [
    "* i noticed that some shows have multiple directors, and they are seperated by `,` so we use `str.split(',')` to split them and turn them into a list"
   ]
  },
  {
   "cell_type": "code",
   "execution_count": 48,
   "id": "715fd962",
   "metadata": {},
   "outputs": [],
   "source": [
    "ds['director'] = ds['director'].str.split(',')"
   ]
  },
  {
   "cell_type": "markdown",
   "id": "105beb7e",
   "metadata": {},
   "source": [
    "* `explode` to give each director a row"
   ]
  },
  {
   "cell_type": "code",
   "execution_count": 50,
   "id": "f305584f",
   "metadata": {},
   "outputs": [],
   "source": [
    "ex = ds.explode('director')"
   ]
  },
  {
   "cell_type": "markdown",
   "id": "d4ca14b1",
   "metadata": {},
   "source": [
    "* `value_counts` gives us a list of directors how many shows the produced"
   ]
  },
  {
   "cell_type": "code",
   "execution_count": 52,
   "id": "4d6e0a46",
   "metadata": {
    "scrolled": true
   },
   "outputs": [
    {
     "data": {
      "text/plain": [
       "Jack Hannah          17\n",
       "John Lasseter        16\n",
       "Paul Hoen            16\n",
       "Wilfred Jackson      14\n",
       "Charles Nichols      12\n",
       "                     ..\n",
       " Tad Stones           1\n",
       "Toby Shelton          1\n",
       "Michael Mayer         1\n",
       "Sigmund Spath Jr.     1\n",
       "Mark Waring           1\n",
       "Name: director, Length: 673, dtype: int64"
      ]
     },
     "execution_count": 52,
     "metadata": {},
     "output_type": "execute_result"
    }
   ],
   "source": [
    "ex['director'].value_counts()"
   ]
  },
  {
   "cell_type": "markdown",
   "id": "4eb4370a",
   "metadata": {},
   "source": [
    "* displaying the top 5 directors in a bar type plot"
   ]
  },
  {
   "cell_type": "code",
   "execution_count": 55,
   "id": "0234ea81",
   "metadata": {
    "scrolled": false
   },
   "outputs": [
    {
     "data": {
      "image/png": "[encoded data removed]",
      "text/plain": [
       "<Figure size 640x480 with 1 Axes>"
      ]
     },
     "metadata": {},
     "output_type": "display_data"
    }
   ],
   "source": [
    "ax = ex['director'].value_counts() \\\n",
    "    .head(5) \\\n",
    "    .plot(kind='bar' , title='top 5 directors')\n",
    "ax.set_xlabel('director')\n",
    "ax.set_ylabel('Count')\n",
    "plt.show()"
   ]
  },
  {
   "cell_type": "markdown",
   "id": "de35ca17",
   "metadata": {},
   "source": [
    "# Top 10 casts"
   ]
  },
  {
   "cell_type": "markdown",
   "id": "1946a6e3",
   "metadata": {},
   "source": [
    "* casts are seperated by `,` so we use `str.split(',')` to turn them into a list"
   ]
  },
  {
   "cell_type": "code",
   "execution_count": 35,
   "id": "b28b86ed",
   "metadata": {},
   "outputs": [],
   "source": [
    "ds['cast'] = ds['cast'].str.split(',')"
   ]
  },
  {
   "cell_type": "code",
   "execution_count": 36,
   "id": "d4fe0a19",
   "metadata": {
    "scrolled": true
   },
   "outputs": [
    {
     "data": {
      "text/plain": [
       "0    [Chris Diamantopoulos,  Tony Anselmo,  Tress M...\n",
       "1         [Jim Varney,  Noelle Parker,  Douglas Seale]\n",
       "2    [Raymond Albert Romano,  John Leguizamo,  Deni...\n",
       "3    [Darren Criss,  Adam Lambert,  Derek Hough,  A...\n",
       "4    [John Lennon,  Paul McCartney,  George Harriso...\n",
       "Name: cast, dtype: object"
      ]
     },
     "execution_count": 36,
     "metadata": {},
     "output_type": "execute_result"
    }
   ],
   "source": [
    "ds['cast'].head()"
   ]
  },
  {
   "cell_type": "markdown",
   "id": "791b4f5a",
   "metadata": {},
   "source": [
    "* we give each cast a row using `explode`"
   ]
  },
  {
   "cell_type": "code",
   "execution_count": 37,
   "id": "b637e01a",
   "metadata": {},
   "outputs": [],
   "source": [
    "ex = ds.explode('cast')"
   ]
  },
  {
   "cell_type": "markdown",
   "id": "66705e76",
   "metadata": {},
   "source": [
    "* showing each cast and the number of shows they're in"
   ]
  },
  {
   "cell_type": "code",
   "execution_count": 38,
   "id": "428cf856",
   "metadata": {
    "scrolled": true
   },
   "outputs": [
    {
     "data": {
      "text/plain": [
       " Jim Cummings       24\n",
       " Corey Burton       15\n",
       "Walt Disney         15\n",
       " Jeff Bennett       14\n",
       " Tress MacNeille    14\n",
       "                    ..\n",
       " Lance Henriksen     1\n",
       "Benjamin Bratt       1\n",
       " Eva Longoria        1\n",
       " Carlos Rivera       1\n",
       "Charlie Tahan        1\n",
       "Name: cast, Length: 4057, dtype: int64"
      ]
     },
     "execution_count": 38,
     "metadata": {},
     "output_type": "execute_result"
    }
   ],
   "source": [
    "ex['cast'].value_counts()"
   ]
  },
  {
   "cell_type": "markdown",
   "id": "7fbcc2a5",
   "metadata": {},
   "source": [
    "* using the previous data to show the top 10 casts in a bar plot"
   ]
  },
  {
   "cell_type": "code",
   "execution_count": 40,
   "id": "0d9dc078",
   "metadata": {
    "scrolled": false
   },
   "outputs": [
    {
     "data": {
      "image/png": "[encoded data removed]",
      "text/plain": [
       "<Figure size 640x480 with 1 Axes>"
      ]
     },
     "metadata": {},
     "output_type": "display_data"
    }
   ],
   "source": [
    "ax = ex['cast'].value_counts() \\\n",
    "    .head(10) \\\n",
    "    .plot(kind='bar' , title='Top 10 casts')\n",
    "ax.set_xlabel('cast')\n",
    "ax.set_ylabel('Count')\n",
    "plt.show()"
   ]
  },
  {
   "cell_type": "markdown",
   "id": "697b8afb",
   "metadata": {},
   "source": [
    "# Top 5 TV Shows"
   ]
  },
  {
   "cell_type": "markdown",
   "id": "95acfbcc",
   "metadata": {},
   "source": [
    "* getting TV Shows from our dataset using `query` and copying it to `series` using `copy()`"
   ]
  },
  {
   "cell_type": "code",
   "execution_count": 41,
   "id": "1bd9a87b",
   "metadata": {},
   "outputs": [
    {
     "data": {
      "text/html": [
       "<div>\n",
       "<style scoped>\n",
       "    .dataframe tbody tr th:only-of-type {\n",
       "        vertical-align: middle;\n",
       "    }\n",
       "\n",
       "    .dataframe tbody tr th {\n",
       "        vertical-align: top;\n",
       "    }\n",
       "\n",
       "    .dataframe thead th {\n",
       "        text-align: right;\n",
       "    }\n",
       "</style>\n",
       "<table border=\"1\" class=\"dataframe\">\n",
       "  <thead>\n",
       "    <tr style=\"text-align: right;\">\n",
       "      <th></th>\n",
       "      <th>show_id</th>\n",
       "      <th>type</th>\n",
       "      <th>title</th>\n",
       "      <th>director</th>\n",
       "      <th>cast</th>\n",
       "      <th>country</th>\n",
       "      <th>date_added</th>\n",
       "      <th>release_year</th>\n",
       "      <th>rating</th>\n",
       "      <th>duration</th>\n",
       "      <th>cat</th>\n",
       "      <th>description</th>\n",
       "    </tr>\n",
       "  </thead>\n",
       "  <tbody>\n",
       "    <tr>\n",
       "      <th>4</th>\n",
       "      <td>s5</td>\n",
       "      <td>TV Show</td>\n",
       "      <td>The Beatles: Get Back</td>\n",
       "      <td>NaN</td>\n",
       "      <td>[John Lennon,  Paul McCartney,  George Harriso...</td>\n",
       "      <td>NaN</td>\n",
       "      <td>2021-11-25</td>\n",
       "      <td>2021</td>\n",
       "      <td>NaN</td>\n",
       "      <td>1 Season</td>\n",
       "      <td>[Docuseries,  Historical,  Music]</td>\n",
       "      <td>A three-part documentary from Peter Jackson ca...</td>\n",
       "    </tr>\n",
       "    <tr>\n",
       "      <th>6</th>\n",
       "      <td>s7</td>\n",
       "      <td>TV Show</td>\n",
       "      <td>Hawkeye</td>\n",
       "      <td>NaN</td>\n",
       "      <td>[Jeremy Renner,  Hailee Steinfeld,  Vera Farmi...</td>\n",
       "      <td>NaN</td>\n",
       "      <td>2021-11-24</td>\n",
       "      <td>2021</td>\n",
       "      <td>TV-14</td>\n",
       "      <td>1 Season</td>\n",
       "      <td>[Action-Adventure,  Superhero]</td>\n",
       "      <td>Clint Barton/Hawkeye must team up with skilled...</td>\n",
       "    </tr>\n",
       "    <tr>\n",
       "      <th>7</th>\n",
       "      <td>s8</td>\n",
       "      <td>TV Show</td>\n",
       "      <td>Port Protection Alaska</td>\n",
       "      <td>NaN</td>\n",
       "      <td>[Gary Muehlberger,  Mary Miller,  Curly Leach,...</td>\n",
       "      <td>United States</td>\n",
       "      <td>2021-11-24</td>\n",
       "      <td>2015</td>\n",
       "      <td>TV-14</td>\n",
       "      <td>2 Seasons</td>\n",
       "      <td>[Docuseries,  Reality,  Survival]</td>\n",
       "      <td>Residents of Port Protection must combat volat...</td>\n",
       "    </tr>\n",
       "    <tr>\n",
       "      <th>8</th>\n",
       "      <td>s9</td>\n",
       "      <td>TV Show</td>\n",
       "      <td>Secrets of the Zoo: Tampa</td>\n",
       "      <td>NaN</td>\n",
       "      <td>[Dr. Ray Ball,  Dr. Lauren Smith,  Chris Massa...</td>\n",
       "      <td>United States</td>\n",
       "      <td>2021-11-24</td>\n",
       "      <td>2019</td>\n",
       "      <td>TV-PG</td>\n",
       "      <td>2 Seasons</td>\n",
       "      <td>[Animals &amp; Nature,  Docuseries,  Family]</td>\n",
       "      <td>A day in the life at ZooTampa is anything but ...</td>\n",
       "    </tr>\n",
       "    <tr>\n",
       "      <th>13</th>\n",
       "      <td>s14</td>\n",
       "      <td>TV Show</td>\n",
       "      <td>Dr. Oakley, Yukon Vet</td>\n",
       "      <td>NaN</td>\n",
       "      <td>[Dr. Michelle Oakley,  Zachary Fine]</td>\n",
       "      <td>United States</td>\n",
       "      <td>2021-11-17</td>\n",
       "      <td>2013</td>\n",
       "      <td>TV-PG</td>\n",
       "      <td>10 Seasons</td>\n",
       "      <td>[Action-Adventure,  Animals &amp; Nature,  Docuser...</td>\n",
       "      <td>Meet Dr. Michelle Oakley, vet to pretty much e...</td>\n",
       "    </tr>\n",
       "    <tr>\n",
       "      <th>17</th>\n",
       "      <td>s18</td>\n",
       "      <td>TV Show</td>\n",
       "      <td>Disney Fancy Nancy</td>\n",
       "      <td>NaN</td>\n",
       "      <td>[Mia Jenness,  Alyson Hannigan,  Rob Riggle,  ...</td>\n",
       "      <td>United States, Canada</td>\n",
       "      <td>2021-11-12</td>\n",
       "      <td>2018</td>\n",
       "      <td>TV-PG</td>\n",
       "      <td>3 Seasons</td>\n",
       "      <td>[Animation,  Kids]</td>\n",
       "      <td>Nancy makes every day extraordinary!</td>\n",
       "    </tr>\n",
       "    <tr>\n",
       "      <th>18</th>\n",
       "      <td>s19</td>\n",
       "      <td>TV Show</td>\n",
       "      <td>Disney Intertwined</td>\n",
       "      <td>NaN</td>\n",
       "      <td>[Carolina Domenech,  José Jiménez Zapiola,  Ke...</td>\n",
       "      <td>NaN</td>\n",
       "      <td>2021-11-12</td>\n",
       "      <td>2021</td>\n",
       "      <td>TV-PG</td>\n",
       "      <td>1 Season</td>\n",
       "      <td>[Comedy,  Coming of Age,  Drama]</td>\n",
       "      <td>Allegra is ready to change the past in order t...</td>\n",
       "    </tr>\n",
       "    <tr>\n",
       "      <th>28</th>\n",
       "      <td>s29</td>\n",
       "      <td>TV Show</td>\n",
       "      <td>Olaf Presents</td>\n",
       "      <td>NaN</td>\n",
       "      <td>[Josh Gad]</td>\n",
       "      <td>NaN</td>\n",
       "      <td>2021-11-12</td>\n",
       "      <td>2021</td>\n",
       "      <td>TV-PG</td>\n",
       "      <td>1 Season</td>\n",
       "      <td>[Animation,  Family]</td>\n",
       "      <td>Olaf goes from snowman to showman for his uniq...</td>\n",
       "    </tr>\n",
       "    <tr>\n",
       "      <th>51</th>\n",
       "      <td>s52</td>\n",
       "      <td>TV Show</td>\n",
       "      <td>Disney Amphibia</td>\n",
       "      <td>NaN</td>\n",
       "      <td>[Justin Felbinger,  Amanda Leighton,  Bill Far...</td>\n",
       "      <td>United States, South Korea</td>\n",
       "      <td>2021-11-03</td>\n",
       "      <td>2018</td>\n",
       "      <td>TV-Y7</td>\n",
       "      <td>3 Seasons</td>\n",
       "      <td>[Animation,  Comedy,  Family]</td>\n",
       "      <td>Anne Boonchuy is transported to the world of A...</td>\n",
       "    </tr>\n",
       "    <tr>\n",
       "      <th>52</th>\n",
       "      <td>s53</td>\n",
       "      <td>TV Show</td>\n",
       "      <td>Photo Ark</td>\n",
       "      <td>NaN</td>\n",
       "      <td>[Joel Sartore]</td>\n",
       "      <td>United States</td>\n",
       "      <td>2021-11-03</td>\n",
       "      <td>2017</td>\n",
       "      <td>TV-PG</td>\n",
       "      <td>1 Season</td>\n",
       "      <td>[Animals &amp; Nature,  Docuseries,  Family]</td>\n",
       "      <td>National Geographic photographer Joel Sartore ...</td>\n",
       "    </tr>\n",
       "  </tbody>\n",
       "</table>\n",
       "</div>"
      ],
      "text/plain": [
       "   show_id     type                      title director  \\\n",
       "4       s5  TV Show      The Beatles: Get Back      NaN   \n",
       "6       s7  TV Show                    Hawkeye      NaN   \n",
       "7       s8  TV Show     Port Protection Alaska      NaN   \n",
       "8       s9  TV Show  Secrets of the Zoo: Tampa      NaN   \n",
       "13     s14  TV Show      Dr. Oakley, Yukon Vet      NaN   \n",
       "17     s18  TV Show         Disney Fancy Nancy      NaN   \n",
       "18     s19  TV Show         Disney Intertwined      NaN   \n",
       "28     s29  TV Show              Olaf Presents      NaN   \n",
       "51     s52  TV Show            Disney Amphibia      NaN   \n",
       "52     s53  TV Show                  Photo Ark      NaN   \n",
       "\n",
       "                                                 cast  \\\n",
       "4   [John Lennon,  Paul McCartney,  George Harriso...   \n",
       "6   [Jeremy Renner,  Hailee Steinfeld,  Vera Farmi...   \n",
       "7   [Gary Muehlberger,  Mary Miller,  Curly Leach,...   \n",
       "8   [Dr. Ray Ball,  Dr. Lauren Smith,  Chris Massa...   \n",
       "13               [Dr. Michelle Oakley,  Zachary Fine]   \n",
       "17  [Mia Jenness,  Alyson Hannigan,  Rob Riggle,  ...   \n",
       "18  [Carolina Domenech,  José Jiménez Zapiola,  Ke...   \n",
       "28                                         [Josh Gad]   \n",
       "51  [Justin Felbinger,  Amanda Leighton,  Bill Far...   \n",
       "52                                     [Joel Sartore]   \n",
       "\n",
       "                       country date_added  release_year rating    duration  \\\n",
       "4                          NaN 2021-11-25          2021    NaN    1 Season   \n",
       "6                          NaN 2021-11-24          2021  TV-14    1 Season   \n",
       "7                United States 2021-11-24          2015  TV-14   2 Seasons   \n",
       "8                United States 2021-11-24          2019  TV-PG   2 Seasons   \n",
       "13               United States 2021-11-17          2013  TV-PG  10 Seasons   \n",
       "17       United States, Canada 2021-11-12          2018  TV-PG   3 Seasons   \n",
       "18                         NaN 2021-11-12          2021  TV-PG    1 Season   \n",
       "28                         NaN 2021-11-12          2021  TV-PG    1 Season   \n",
       "51  United States, South Korea 2021-11-03          2018  TV-Y7   3 Seasons   \n",
       "52               United States 2021-11-03          2017  TV-PG    1 Season   \n",
       "\n",
       "                                                  cat  \\\n",
       "4                   [Docuseries,  Historical,  Music]   \n",
       "6                      [Action-Adventure,  Superhero]   \n",
       "7                   [Docuseries,  Reality,  Survival]   \n",
       "8            [Animals & Nature,  Docuseries,  Family]   \n",
       "13  [Action-Adventure,  Animals & Nature,  Docuser...   \n",
       "17                                 [Animation,  Kids]   \n",
       "18                   [Comedy,  Coming of Age,  Drama]   \n",
       "28                               [Animation,  Family]   \n",
       "51                      [Animation,  Comedy,  Family]   \n",
       "52           [Animals & Nature,  Docuseries,  Family]   \n",
       "\n",
       "                                          description  \n",
       "4   A three-part documentary from Peter Jackson ca...  \n",
       "6   Clint Barton/Hawkeye must team up with skilled...  \n",
       "7   Residents of Port Protection must combat volat...  \n",
       "8   A day in the life at ZooTampa is anything but ...  \n",
       "13  Meet Dr. Michelle Oakley, vet to pretty much e...  \n",
       "17               Nancy makes every day extraordinary!  \n",
       "18  Allegra is ready to change the past in order t...  \n",
       "28  Olaf goes from snowman to showman for his uniq...  \n",
       "51  Anne Boonchuy is transported to the world of A...  \n",
       "52  National Geographic photographer Joel Sartore ...  "
      ]
     },
     "execution_count": 41,
     "metadata": {},
     "output_type": "execute_result"
    }
   ],
   "source": [
    "series = ds.query('type == \"TV Show\"').copy()\n",
    "series.head(10)"
   ]
  },
  {
   "cell_type": "markdown",
   "id": "64205afe",
   "metadata": {},
   "source": [
    "* we noticed that the number of seasons is in a string in duration, so we extract it using `str.extract` and we add it to a new column `Seasons_Number` "
   ]
  },
  {
   "cell_type": "code",
   "execution_count": 42,
   "id": "fd2c7bfe",
   "metadata": {
    "scrolled": false
   },
   "outputs": [],
   "source": [
    "series['Seasons_Number'] = series['duration'].str.extract(r'(\\d+)')"
   ]
  },
  {
   "cell_type": "code",
   "execution_count": 43,
   "id": "b2155053",
   "metadata": {
    "scrolled": false
   },
   "outputs": [
    {
     "data": {
      "text/html": [
       "<div>\n",
       "<style scoped>\n",
       "    .dataframe tbody tr th:only-of-type {\n",
       "        vertical-align: middle;\n",
       "    }\n",
       "\n",
       "    .dataframe tbody tr th {\n",
       "        vertical-align: top;\n",
       "    }\n",
       "\n",
       "    .dataframe thead th {\n",
       "        text-align: right;\n",
       "    }\n",
       "</style>\n",
       "<table border=\"1\" class=\"dataframe\">\n",
       "  <thead>\n",
       "    <tr style=\"text-align: right;\">\n",
       "      <th></th>\n",
       "      <th>show_id</th>\n",
       "      <th>type</th>\n",
       "      <th>title</th>\n",
       "      <th>director</th>\n",
       "      <th>cast</th>\n",
       "      <th>country</th>\n",
       "      <th>date_added</th>\n",
       "      <th>release_year</th>\n",
       "      <th>rating</th>\n",
       "      <th>duration</th>\n",
       "      <th>cat</th>\n",
       "      <th>description</th>\n",
       "      <th>Seasons_Number</th>\n",
       "    </tr>\n",
       "  </thead>\n",
       "  <tbody>\n",
       "    <tr>\n",
       "      <th>4</th>\n",
       "      <td>s5</td>\n",
       "      <td>TV Show</td>\n",
       "      <td>The Beatles: Get Back</td>\n",
       "      <td>NaN</td>\n",
       "      <td>[John Lennon,  Paul McCartney,  George Harriso...</td>\n",
       "      <td>NaN</td>\n",
       "      <td>2021-11-25</td>\n",
       "      <td>2021</td>\n",
       "      <td>NaN</td>\n",
       "      <td>1 Season</td>\n",
       "      <td>[Docuseries,  Historical,  Music]</td>\n",
       "      <td>A three-part documentary from Peter Jackson ca...</td>\n",
       "      <td>1</td>\n",
       "    </tr>\n",
       "    <tr>\n",
       "      <th>6</th>\n",
       "      <td>s7</td>\n",
       "      <td>TV Show</td>\n",
       "      <td>Hawkeye</td>\n",
       "      <td>NaN</td>\n",
       "      <td>[Jeremy Renner,  Hailee Steinfeld,  Vera Farmi...</td>\n",
       "      <td>NaN</td>\n",
       "      <td>2021-11-24</td>\n",
       "      <td>2021</td>\n",
       "      <td>TV-14</td>\n",
       "      <td>1 Season</td>\n",
       "      <td>[Action-Adventure,  Superhero]</td>\n",
       "      <td>Clint Barton/Hawkeye must team up with skilled...</td>\n",
       "      <td>1</td>\n",
       "    </tr>\n",
       "    <tr>\n",
       "      <th>7</th>\n",
       "      <td>s8</td>\n",
       "      <td>TV Show</td>\n",
       "      <td>Port Protection Alaska</td>\n",
       "      <td>NaN</td>\n",
       "      <td>[Gary Muehlberger,  Mary Miller,  Curly Leach,...</td>\n",
       "      <td>United States</td>\n",
       "      <td>2021-11-24</td>\n",
       "      <td>2015</td>\n",
       "      <td>TV-14</td>\n",
       "      <td>2 Seasons</td>\n",
       "      <td>[Docuseries,  Reality,  Survival]</td>\n",
       "      <td>Residents of Port Protection must combat volat...</td>\n",
       "      <td>2</td>\n",
       "    </tr>\n",
       "    <tr>\n",
       "      <th>8</th>\n",
       "      <td>s9</td>\n",
       "      <td>TV Show</td>\n",
       "      <td>Secrets of the Zoo: Tampa</td>\n",
       "      <td>NaN</td>\n",
       "      <td>[Dr. Ray Ball,  Dr. Lauren Smith,  Chris Massa...</td>\n",
       "      <td>United States</td>\n",
       "      <td>2021-11-24</td>\n",
       "      <td>2019</td>\n",
       "      <td>TV-PG</td>\n",
       "      <td>2 Seasons</td>\n",
       "      <td>[Animals &amp; Nature,  Docuseries,  Family]</td>\n",
       "      <td>A day in the life at ZooTampa is anything but ...</td>\n",
       "      <td>2</td>\n",
       "    </tr>\n",
       "    <tr>\n",
       "      <th>13</th>\n",
       "      <td>s14</td>\n",
       "      <td>TV Show</td>\n",
       "      <td>Dr. Oakley, Yukon Vet</td>\n",
       "      <td>NaN</td>\n",
       "      <td>[Dr. Michelle Oakley,  Zachary Fine]</td>\n",
       "      <td>United States</td>\n",
       "      <td>2021-11-17</td>\n",
       "      <td>2013</td>\n",
       "      <td>TV-PG</td>\n",
       "      <td>10 Seasons</td>\n",
       "      <td>[Action-Adventure,  Animals &amp; Nature,  Docuser...</td>\n",
       "      <td>Meet Dr. Michelle Oakley, vet to pretty much e...</td>\n",
       "      <td>10</td>\n",
       "    </tr>\n",
       "    <tr>\n",
       "      <th>17</th>\n",
       "      <td>s18</td>\n",
       "      <td>TV Show</td>\n",
       "      <td>Disney Fancy Nancy</td>\n",
       "      <td>NaN</td>\n",
       "      <td>[Mia Jenness,  Alyson Hannigan,  Rob Riggle,  ...</td>\n",
       "      <td>United States, Canada</td>\n",
       "      <td>2021-11-12</td>\n",
       "      <td>2018</td>\n",
       "      <td>TV-PG</td>\n",
       "      <td>3 Seasons</td>\n",
       "      <td>[Animation,  Kids]</td>\n",
       "      <td>Nancy makes every day extraordinary!</td>\n",
       "      <td>3</td>\n",
       "    </tr>\n",
       "    <tr>\n",
       "      <th>18</th>\n",
       "      <td>s19</td>\n",
       "      <td>TV Show</td>\n",
       "      <td>Disney Intertwined</td>\n",
       "      <td>NaN</td>\n",
       "      <td>[Carolina Domenech,  José Jiménez Zapiola,  Ke...</td>\n",
       "      <td>NaN</td>\n",
       "      <td>2021-11-12</td>\n",
       "      <td>2021</td>\n",
       "      <td>TV-PG</td>\n",
       "      <td>1 Season</td>\n",
       "      <td>[Comedy,  Coming of Age,  Drama]</td>\n",
       "      <td>Allegra is ready to change the past in order t...</td>\n",
       "      <td>1</td>\n",
       "    </tr>\n",
       "    <tr>\n",
       "      <th>28</th>\n",
       "      <td>s29</td>\n",
       "      <td>TV Show</td>\n",
       "      <td>Olaf Presents</td>\n",
       "      <td>NaN</td>\n",
       "      <td>[Josh Gad]</td>\n",
       "      <td>NaN</td>\n",
       "      <td>2021-11-12</td>\n",
       "      <td>2021</td>\n",
       "      <td>TV-PG</td>\n",
       "      <td>1 Season</td>\n",
       "      <td>[Animation,  Family]</td>\n",
       "      <td>Olaf goes from snowman to showman for his uniq...</td>\n",
       "      <td>1</td>\n",
       "    </tr>\n",
       "    <tr>\n",
       "      <th>51</th>\n",
       "      <td>s52</td>\n",
       "      <td>TV Show</td>\n",
       "      <td>Disney Amphibia</td>\n",
       "      <td>NaN</td>\n",
       "      <td>[Justin Felbinger,  Amanda Leighton,  Bill Far...</td>\n",
       "      <td>United States, South Korea</td>\n",
       "      <td>2021-11-03</td>\n",
       "      <td>2018</td>\n",
       "      <td>TV-Y7</td>\n",
       "      <td>3 Seasons</td>\n",
       "      <td>[Animation,  Comedy,  Family]</td>\n",
       "      <td>Anne Boonchuy is transported to the world of A...</td>\n",
       "      <td>3</td>\n",
       "    </tr>\n",
       "    <tr>\n",
       "      <th>52</th>\n",
       "      <td>s53</td>\n",
       "      <td>TV Show</td>\n",
       "      <td>Photo Ark</td>\n",
       "      <td>NaN</td>\n",
       "      <td>[Joel Sartore]</td>\n",
       "      <td>United States</td>\n",
       "      <td>2021-11-03</td>\n",
       "      <td>2017</td>\n",
       "      <td>TV-PG</td>\n",
       "      <td>1 Season</td>\n",
       "      <td>[Animals &amp; Nature,  Docuseries,  Family]</td>\n",
       "      <td>National Geographic photographer Joel Sartore ...</td>\n",
       "      <td>1</td>\n",
       "    </tr>\n",
       "  </tbody>\n",
       "</table>\n",
       "</div>"
      ],
      "text/plain": [
       "   show_id     type                      title director  \\\n",
       "4       s5  TV Show      The Beatles: Get Back      NaN   \n",
       "6       s7  TV Show                    Hawkeye      NaN   \n",
       "7       s8  TV Show     Port Protection Alaska      NaN   \n",
       "8       s9  TV Show  Secrets of the Zoo: Tampa      NaN   \n",
       "13     s14  TV Show      Dr. Oakley, Yukon Vet      NaN   \n",
       "17     s18  TV Show         Disney Fancy Nancy      NaN   \n",
       "18     s19  TV Show         Disney Intertwined      NaN   \n",
       "28     s29  TV Show              Olaf Presents      NaN   \n",
       "51     s52  TV Show            Disney Amphibia      NaN   \n",
       "52     s53  TV Show                  Photo Ark      NaN   \n",
       "\n",
       "                                                 cast  \\\n",
       "4   [John Lennon,  Paul McCartney,  George Harriso...   \n",
       "6   [Jeremy Renner,  Hailee Steinfeld,  Vera Farmi...   \n",
       "7   [Gary Muehlberger,  Mary Miller,  Curly Leach,...   \n",
       "8   [Dr. Ray Ball,  Dr. Lauren Smith,  Chris Massa...   \n",
       "13               [Dr. Michelle Oakley,  Zachary Fine]   \n",
       "17  [Mia Jenness,  Alyson Hannigan,  Rob Riggle,  ...   \n",
       "18  [Carolina Domenech,  José Jiménez Zapiola,  Ke...   \n",
       "28                                         [Josh Gad]   \n",
       "51  [Justin Felbinger,  Amanda Leighton,  Bill Far...   \n",
       "52                                     [Joel Sartore]   \n",
       "\n",
       "                       country date_added  release_year rating    duration  \\\n",
       "4                          NaN 2021-11-25          2021    NaN    1 Season   \n",
       "6                          NaN 2021-11-24          2021  TV-14    1 Season   \n",
       "7                United States 2021-11-24          2015  TV-14   2 Seasons   \n",
       "8                United States 2021-11-24          2019  TV-PG   2 Seasons   \n",
       "13               United States 2021-11-17          2013  TV-PG  10 Seasons   \n",
       "17       United States, Canada 2021-11-12          2018  TV-PG   3 Seasons   \n",
       "18                         NaN 2021-11-12          2021  TV-PG    1 Season   \n",
       "28                         NaN 2021-11-12          2021  TV-PG    1 Season   \n",
       "51  United States, South Korea 2021-11-03          2018  TV-Y7   3 Seasons   \n",
       "52               United States 2021-11-03          2017  TV-PG    1 Season   \n",
       "\n",
       "                                                  cat  \\\n",
       "4                   [Docuseries,  Historical,  Music]   \n",
       "6                      [Action-Adventure,  Superhero]   \n",
       "7                   [Docuseries,  Reality,  Survival]   \n",
       "8            [Animals & Nature,  Docuseries,  Family]   \n",
       "13  [Action-Adventure,  Animals & Nature,  Docuser...   \n",
       "17                                 [Animation,  Kids]   \n",
       "18                   [Comedy,  Coming of Age,  Drama]   \n",
       "28                               [Animation,  Family]   \n",
       "51                      [Animation,  Comedy,  Family]   \n",
       "52           [Animals & Nature,  Docuseries,  Family]   \n",
       "\n",
       "                                          description Seasons_Number  \n",
       "4   A three-part documentary from Peter Jackson ca...              1  \n",
       "6   Clint Barton/Hawkeye must team up with skilled...              1  \n",
       "7   Residents of Port Protection must combat volat...              2  \n",
       "8   A day in the life at ZooTampa is anything but ...              2  \n",
       "13  Meet Dr. Michelle Oakley, vet to pretty much e...             10  \n",
       "17               Nancy makes every day extraordinary!              3  \n",
       "18  Allegra is ready to change the past in order t...              1  \n",
       "28  Olaf goes from snowman to showman for his uniq...              1  \n",
       "51  Anne Boonchuy is transported to the world of A...              3  \n",
       "52  National Geographic photographer Joel Sartore ...              1  "
      ]
     },
     "execution_count": 43,
     "metadata": {},
     "output_type": "execute_result"
    }
   ],
   "source": [
    "series.head(10)"
   ]
  },
  {
   "cell_type": "markdown",
   "id": "aeb5a3b0",
   "metadata": {},
   "source": [
    "* we see that `Seasons_Number` column is `object` type so we need to convert it\n"
   ]
  },
  {
   "cell_type": "code",
   "execution_count": 75,
   "id": "a8122338",
   "metadata": {
    "scrolled": false
   },
   "outputs": [
    {
     "data": {
      "text/plain": [
       "show_id                   object\n",
       "type                      object\n",
       "title                     object\n",
       "director                  object\n",
       "cast                      object\n",
       "country                   object\n",
       "date_added        datetime64[ns]\n",
       "release_year               int64\n",
       "rating                    object\n",
       "duration                  object\n",
       "cat                       object\n",
       "description               object\n",
       "Seasons_Number            object\n",
       "dtype: object"
      ]
     },
     "execution_count": 75,
     "metadata": {},
     "output_type": "execute_result"
    }
   ],
   "source": [
    "series.dtypes"
   ]
  },
  {
   "cell_type": "markdown",
   "id": "e3d36902",
   "metadata": {},
   "source": [
    "* we used `to_numeric` to convert `Seasons_Number` column to `int64`"
   ]
  },
  {
   "cell_type": "code",
   "execution_count": 44,
   "id": "5925654f",
   "metadata": {},
   "outputs": [],
   "source": [
    "series['Seasons_Number'] = pd.to_numeric(series['Seasons_Number'])"
   ]
  },
  {
   "cell_type": "code",
   "execution_count": 77,
   "id": "bd3251d6",
   "metadata": {
    "scrolled": true
   },
   "outputs": [
    {
     "data": {
      "text/plain": [
       "show_id                   object\n",
       "type                      object\n",
       "title                     object\n",
       "director                  object\n",
       "cast                      object\n",
       "country                   object\n",
       "date_added        datetime64[ns]\n",
       "release_year               int64\n",
       "rating                    object\n",
       "duration                  object\n",
       "cat                       object\n",
       "description               object\n",
       "Seasons_Number             int64\n",
       "dtype: object"
      ]
     },
     "execution_count": 77,
     "metadata": {},
     "output_type": "execute_result"
    }
   ],
   "source": [
    "series.dtypes"
   ]
  },
  {
   "cell_type": "markdown",
   "id": "a7f6a8af",
   "metadata": {},
   "source": [
    "* getting the title of the show and the number of seasons it has, sorted by `Seasons_Number` desending"
   ]
  },
  {
   "cell_type": "code",
   "execution_count": 46,
   "id": "2597da8a",
   "metadata": {
    "scrolled": true
   },
   "outputs": [
    {
     "data": {
      "text/html": [
       "<div>\n",
       "<style scoped>\n",
       "    .dataframe tbody tr th:only-of-type {\n",
       "        vertical-align: middle;\n",
       "    }\n",
       "\n",
       "    .dataframe tbody tr th {\n",
       "        vertical-align: top;\n",
       "    }\n",
       "\n",
       "    .dataframe thead th {\n",
       "        text-align: right;\n",
       "    }\n",
       "</style>\n",
       "<table border=\"1\" class=\"dataframe\">\n",
       "  <thead>\n",
       "    <tr style=\"text-align: right;\">\n",
       "      <th></th>\n",
       "      <th>title</th>\n",
       "      <th>Seasons_Number</th>\n",
       "    </tr>\n",
       "  </thead>\n",
       "  <tbody>\n",
       "    <tr>\n",
       "      <th>92</th>\n",
       "      <td>The Simpsons</td>\n",
       "      <td>32</td>\n",
       "    </tr>\n",
       "    <tr>\n",
       "      <th>115</th>\n",
       "      <td>The Incredible Dr. Pol</td>\n",
       "      <td>19</td>\n",
       "    </tr>\n",
       "    <tr>\n",
       "      <th>106</th>\n",
       "      <td>Life Below Zero</td>\n",
       "      <td>16</td>\n",
       "    </tr>\n",
       "    <tr>\n",
       "      <th>216</th>\n",
       "      <td>Wicked Tuna</td>\n",
       "      <td>10</td>\n",
       "    </tr>\n",
       "    <tr>\n",
       "      <th>13</th>\n",
       "      <td>Dr. Oakley, Yukon Vet</td>\n",
       "      <td>10</td>\n",
       "    </tr>\n",
       "  </tbody>\n",
       "</table>\n",
       "</div>"
      ],
      "text/plain": [
       "                      title  Seasons_Number\n",
       "92             The Simpsons              32\n",
       "115  The Incredible Dr. Pol              19\n",
       "106         Life Below Zero              16\n",
       "216             Wicked Tuna              10\n",
       "13    Dr. Oakley, Yukon Vet              10"
      ]
     },
     "execution_count": 46,
     "metadata": {},
     "output_type": "execute_result"
    }
   ],
   "source": [
    "series[['title', 'Seasons_Number']].sort_values(by=['Seasons_Number'], ascending=False).head(5)"
   ]
  },
  {
   "cell_type": "markdown",
   "id": "5b187052",
   "metadata": {},
   "source": [
    "* we use the data we got and display it in a bar plot"
   ]
  },
  {
   "cell_type": "code",
   "execution_count": 94,
   "id": "ce6e2ddf",
   "metadata": {},
   "outputs": [
    {
     "data": {
      "image/png": "[encoded data removed]",
      "text/plain": [
       "<Figure size 640x480 with 1 Axes>"
      ]
     },
     "metadata": {},
     "output_type": "display_data"
    }
   ],
   "source": [
    "ax = series[['title', 'Seasons_Number']].sort_values(by=['Seasons_Number'], ascending=False) \\\n",
    "    .head(5) \\\n",
    "    .plot(x='title', y='Seasons_Number', kind='bar' , title='The top five TV series with the most seasons')\n",
    "ax.set_xlabel('TV Show')\n",
    "ax.set_ylabel('Number of Seasons')\n",
    "plt.show()"
   ]
  },
  {
   "cell_type": "markdown",
   "id": "cc7ae1ba",
   "metadata": {},
   "source": [
    "# Identifying similar content"
   ]
  },
  {
   "cell_type": "code",
   "execution_count": 100,
   "id": "bc5420c5",
   "metadata": {
    "scrolled": false
   },
   "outputs": [
    {
     "data": {
      "text/html": [
       "<div>\n",
       "<style scoped>\n",
       "    .dataframe tbody tr th:only-of-type {\n",
       "        vertical-align: middle;\n",
       "    }\n",
       "\n",
       "    .dataframe tbody tr th {\n",
       "        vertical-align: top;\n",
       "    }\n",
       "\n",
       "    .dataframe thead th {\n",
       "        text-align: right;\n",
       "    }\n",
       "</style>\n",
       "<table border=\"1\" class=\"dataframe\">\n",
       "  <thead>\n",
       "    <tr style=\"text-align: right;\">\n",
       "      <th></th>\n",
       "      <th>show_id</th>\n",
       "      <th>type</th>\n",
       "      <th>title</th>\n",
       "      <th>director</th>\n",
       "      <th>cast</th>\n",
       "      <th>country</th>\n",
       "      <th>date_added</th>\n",
       "      <th>release_year</th>\n",
       "      <th>rating</th>\n",
       "      <th>duration</th>\n",
       "      <th>cat</th>\n",
       "      <th>description</th>\n",
       "    </tr>\n",
       "  </thead>\n",
       "  <tbody>\n",
       "    <tr>\n",
       "      <th>700</th>\n",
       "      <td>s701</td>\n",
       "      <td>Movie</td>\n",
       "      <td>Coco (in Spanish)</td>\n",
       "      <td>[Lee Unkrich]</td>\n",
       "      <td>[Anthony Gonzalez,  Gael García Bernal,  Benja...</td>\n",
       "      <td>NaN</td>\n",
       "      <td>2019-11-29</td>\n",
       "      <td>2017</td>\n",
       "      <td>PG</td>\n",
       "      <td>105 min</td>\n",
       "      <td>[Animation,  Family,  Fantasy]</td>\n",
       "      <td>Miguel journeys to the magical land of his anc...</td>\n",
       "    </tr>\n",
       "    <tr>\n",
       "      <th>799</th>\n",
       "      <td>s800</td>\n",
       "      <td>TV Show</td>\n",
       "      <td>Coop &amp; Cami Ask The World (Shorts)</td>\n",
       "      <td>NaN</td>\n",
       "      <td>NaN</td>\n",
       "      <td>NaN</td>\n",
       "      <td>2019-11-12</td>\n",
       "      <td>2018</td>\n",
       "      <td>TV-G</td>\n",
       "      <td>1 Season</td>\n",
       "      <td>[Comedy,  Family,  Game Show / Competition]</td>\n",
       "      <td>Cooper and Cami Wrather co-host \"Would You Wra...</td>\n",
       "    </tr>\n",
       "  </tbody>\n",
       "</table>\n",
       "</div>"
      ],
      "text/plain": [
       "    show_id     type                               title       director  \\\n",
       "700    s701    Movie                   Coco (in Spanish)  [Lee Unkrich]   \n",
       "799    s800  TV Show  Coop & Cami Ask The World (Shorts)            NaN   \n",
       "\n",
       "                                                  cast country date_added  \\\n",
       "700  [Anthony Gonzalez,  Gael García Bernal,  Benja...     NaN 2019-11-29   \n",
       "799                                                NaN     NaN 2019-11-12   \n",
       "\n",
       "     release_year rating  duration  \\\n",
       "700          2017     PG   105 min   \n",
       "799          2018   TV-G  1 Season   \n",
       "\n",
       "                                             cat  \\\n",
       "700               [Animation,  Family,  Fantasy]   \n",
       "799  [Comedy,  Family,  Game Show / Competition]   \n",
       "\n",
       "                                           description  \n",
       "700  Miguel journeys to the magical land of his anc...  \n",
       "799  Cooper and Cami Wrather co-host \"Would You Wra...  "
      ]
     },
     "execution_count": 100,
     "metadata": {},
     "output_type": "execute_result"
    }
   ],
   "source": [
    "ds.loc[ds.duplicated(subset='description')]"
   ]
  },
  {
   "cell_type": "code",
   "execution_count": 107,
   "id": "4053c164",
   "metadata": {
    "scrolled": false
   },
   "outputs": [
    {
     "data": {
      "text/html": [
       "<div>\n",
       "<style scoped>\n",
       "    .dataframe tbody tr th:only-of-type {\n",
       "        vertical-align: middle;\n",
       "    }\n",
       "\n",
       "    .dataframe tbody tr th {\n",
       "        vertical-align: top;\n",
       "    }\n",
       "\n",
       "    .dataframe thead th {\n",
       "        text-align: right;\n",
       "    }\n",
       "</style>\n",
       "<table border=\"1\" class=\"dataframe\">\n",
       "  <thead>\n",
       "    <tr style=\"text-align: right;\">\n",
       "      <th></th>\n",
       "      <th>show_id</th>\n",
       "      <th>type</th>\n",
       "      <th>title</th>\n",
       "      <th>director</th>\n",
       "      <th>cast</th>\n",
       "      <th>country</th>\n",
       "      <th>date_added</th>\n",
       "      <th>release_year</th>\n",
       "      <th>rating</th>\n",
       "      <th>duration</th>\n",
       "      <th>cat</th>\n",
       "      <th>description</th>\n",
       "    </tr>\n",
       "  </thead>\n",
       "  <tbody>\n",
       "  </tbody>\n",
       "</table>\n",
       "</div>"
      ],
      "text/plain": [
       "Empty DataFrame\n",
       "Columns: [show_id, type, title, director, cast, country, date_added, release_year, rating, duration, cat, description]\n",
       "Index: []"
      ]
     },
     "execution_count": 107,
     "metadata": {},
     "output_type": "execute_result"
    }
   ],
   "source": [
    "ds.loc[ds.duplicated(subset='title')]"
   ]
  },
  {
   "cell_type": "markdown",
   "id": "f838ec4e",
   "metadata": {},
   "source": [
    "# Disney's focus"
   ]
  },
  {
   "cell_type": "markdown",
   "id": "1443f407",
   "metadata": {},
   "source": [
    "* to see what disney have been focusing on in the past years we need to extract the number of tv shows and movies released each year"
   ]
  },
  {
   "cell_type": "markdown",
   "id": "0e3647f6",
   "metadata": {},
   "source": [
    "* we get the shows released after 2017 and copy them into `last4years`"
   ]
  },
  {
   "cell_type": "code",
   "execution_count": 49,
   "id": "ac95010e",
   "metadata": {},
   "outputs": [],
   "source": [
    "last4years = ds.query('release_year > 2017').copy()"
   ]
  },
  {
   "cell_type": "markdown",
   "id": "61723364",
   "metadata": {},
   "source": [
    "* grouping `last4years` by `release_year` and `type` and getting the count of every type on every year using `count()`"
   ]
  },
  {
   "cell_type": "code",
   "execution_count": 50,
   "id": "411d3110",
   "metadata": {
    "scrolled": false
   },
   "outputs": [],
   "source": [
    "l4 = last4years.groupby(['release_year','type']).count()"
   ]
  },
  {
   "cell_type": "markdown",
   "id": "1ca64c05",
   "metadata": {},
   "source": [
    "* using `pivot_table` to make a pivot table `pvtable` using the data we grouped"
   ]
  },
  {
   "cell_type": "code",
   "execution_count": 51,
   "id": "6a7c2a77",
   "metadata": {},
   "outputs": [],
   "source": [
    "pvtable = l4.pivot_table(index='release_year', columns='type', values='show_id')"
   ]
  },
  {
   "cell_type": "code",
   "execution_count": 52,
   "id": "4b7b8b6c",
   "metadata": {},
   "outputs": [
    {
     "data": {
      "text/html": [
       "<div>\n",
       "<style scoped>\n",
       "    .dataframe tbody tr th:only-of-type {\n",
       "        vertical-align: middle;\n",
       "    }\n",
       "\n",
       "    .dataframe tbody tr th {\n",
       "        vertical-align: top;\n",
       "    }\n",
       "\n",
       "    .dataframe thead th {\n",
       "        text-align: right;\n",
       "    }\n",
       "</style>\n",
       "<table border=\"1\" class=\"dataframe\">\n",
       "  <thead>\n",
       "    <tr style=\"text-align: right;\">\n",
       "      <th>type</th>\n",
       "      <th>Movie</th>\n",
       "      <th>TV Show</th>\n",
       "    </tr>\n",
       "    <tr>\n",
       "      <th>release_year</th>\n",
       "      <th></th>\n",
       "      <th></th>\n",
       "    </tr>\n",
       "  </thead>\n",
       "  <tbody>\n",
       "    <tr>\n",
       "      <th>2018</th>\n",
       "      <td>32</td>\n",
       "      <td>33</td>\n",
       "    </tr>\n",
       "    <tr>\n",
       "      <th>2019</th>\n",
       "      <td>61</td>\n",
       "      <td>38</td>\n",
       "    </tr>\n",
       "    <tr>\n",
       "      <th>2020</th>\n",
       "      <td>74</td>\n",
       "      <td>40</td>\n",
       "    </tr>\n",
       "    <tr>\n",
       "      <th>2021</th>\n",
       "      <td>70</td>\n",
       "      <td>55</td>\n",
       "    </tr>\n",
       "  </tbody>\n",
       "</table>\n",
       "</div>"
      ],
      "text/plain": [
       "type          Movie  TV Show\n",
       "release_year                \n",
       "2018             32       33\n",
       "2019             61       38\n",
       "2020             74       40\n",
       "2021             70       55"
      ]
     },
     "execution_count": 52,
     "metadata": {},
     "output_type": "execute_result"
    }
   ],
   "source": [
    "pvtable"
   ]
  },
  {
   "cell_type": "markdown",
   "id": "23a8e6c1",
   "metadata": {},
   "source": [
    "* we display `pvtable` in a bar plot"
   ]
  },
  {
   "cell_type": "code",
   "execution_count": 53,
   "id": "8a4d36d8",
   "metadata": {
    "scrolled": false
   },
   "outputs": [
    {
     "data": {
      "image/png": "[encoded data removed]",
      "text/plain": [
       "<Figure size 640x480 with 1 Axes>"
      ]
     },
     "metadata": {},
     "output_type": "display_data"
    }
   ],
   "source": [
    "ax = pvtable.plot(kind='bar', title='Number of Movies or TV Shows per year')\n",
    "ax.set_xlabel('Year')\n",
    "ax.set_ylabel('Count')\n",
    "plt.show()"
   ]
  },
  {
   "cell_type": "markdown",
   "id": "0997aecb",
   "metadata": {},
   "source": [
    "* from the result we got, we can say that disney had been focusing on making movies a lot these past years"
   ]
  },
  {
   "cell_type": "code",
   "execution_count": null,
   "id": "e91e33d0",
   "metadata": {},
   "outputs": [],
   "source": []
  }
 ],
 "metadata": {
  "kernelspec": {
   "display_name": "Python 3 (ipykernel)",
   "language": "python",
   "name": "python3"
  },
  "language_info": {
   "codemirror_mode": {
    "name": "ipython",
    "version": 3
   },
   "file_extension": ".py",
   "mimetype": "text/x-python",
   "name": "python",
   "nbconvert_exporter": "python",
   "pygments_lexer": "ipython3",
   "version": "3.9.13"
  }
 },
 "nbformat": 4,
 "nbformat_minor": 5
}
